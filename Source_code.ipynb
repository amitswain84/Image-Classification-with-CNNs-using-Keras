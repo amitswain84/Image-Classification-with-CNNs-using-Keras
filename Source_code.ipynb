{
  "nbformat": 4,
  "nbformat_minor": 0,
  "metadata": {
    "kernelspec": {
      "display_name": "Python 3",
      "language": "python",
      "name": "python3"
    },
    "language_info": {
      "codemirror_mode": {
        "name": "ipython",
        "version": 3
      },
      "file_extension": ".py",
      "mimetype": "text/x-python",
      "name": "python",
      "nbconvert_exporter": "python",
      "pygments_lexer": "ipython3",
      "version": "3.6.8"
    },
    "colab": {
      "name": "Source code.ipynb",
      "provenance": []
    }
  },
  "cells": [
    {
      "cell_type": "markdown",
      "metadata": {
        "id": "NQIX72YhlhY6",
        "colab_type": "text"
      },
      "source": [
        "# Image Classification with CNNs using Keras"
      ]
    },
    {
      "cell_type": "markdown",
      "metadata": {
        "id": "uEnDY5JilhY-",
        "colab_type": "text"
      },
      "source": [
        "# Task 1: Import Libraries"
      ]
    },
    {
      "cell_type": "code",
      "metadata": {
        "id": "Z8zntn5WlhZB",
        "colab_type": "code",
        "colab": {}
      },
      "source": [
        "import tensorflow as tf\n",
        "import os\n",
        "import numpy as np\n",
        "\n",
        "from matplotlib import pyplot as plt\n",
        "%matplotlib inline\n",
        "\n",
        "if not os.path.isdir('models'):\n",
        "    os.mkdir('models')\n",
        "    \n",
        "print('TensorFlow version:', tf.__version__)\n",
        "print('Is using GPU?', tf.test.is_gpu_available())"
      ],
      "execution_count": 0,
      "outputs": []
    },
    {
      "cell_type": "markdown",
      "metadata": {
        "id": "kwNYfFrxlhZR",
        "colab_type": "text"
      },
      "source": [
        "# Task 2: Preprocess Data"
      ]
    },
    {
      "cell_type": "code",
      "metadata": {
        "id": "C5vVjmP_lhZT",
        "colab_type": "code",
        "colab": {}
      },
      "source": [
        "def get_three_classes(x, y):\n",
        "    def indices_of(class_id):\n",
        "        indices, _ = np.where(y == float(class_id))\n",
        "        return indices\n",
        "\n",
        "    indices = np.concatenate([indices_of(0), indices_of(1), indices_of(2)], axis=0)\n",
        "    \n",
        "    x = x[indices]\n",
        "    y = y[indices]\n",
        "    \n",
        "    count = x.shape[0]\n",
        "    indices = np.random.choice(range(count), count, replace=False)\n",
        "    \n",
        "    x = x[indices]\n",
        "    y = y[indices]\n",
        "    \n",
        "    y = tf.keras.utils.to_categorical(y)\n",
        "    \n",
        "    return x, y"
      ],
      "execution_count": 0,
      "outputs": []
    },
    {
      "cell_type": "code",
      "metadata": {
        "id": "Auz4-UuYlhZd",
        "colab_type": "code",
        "colab": {}
      },
      "source": [
        "(x_train, y_train), (x_test, y_test) = tf.keras.datasets.cifar10.load_data()\n",
        "\n",
        "x_train, y_train = get_three_classes(x_train, y_train)\n",
        "x_test, y_test = get_three_classes(x_test, y_test)\n",
        "\n",
        "print(x_train.shape, y_train.shape)\n",
        "print(x_test.shape, y_test.shape)"
      ],
      "execution_count": 0,
      "outputs": []
    },
    {
      "cell_type": "markdown",
      "metadata": {
        "id": "SmorcEZvlhZm",
        "colab_type": "text"
      },
      "source": [
        "# Task 3: Visualize Examples"
      ]
    },
    {
      "cell_type": "code",
      "metadata": {
        "id": "0Svj8pnClhZo",
        "colab_type": "code",
        "colab": {}
      },
      "source": [
        "class_names = ['aeroplane', 'car', 'bird']\n",
        "\n",
        "def show_random_examples(x, y, p):\n",
        "    indices = np.random.choice(range(x.shape[0]), 10, replace=False)\n",
        "    \n",
        "    x = x[indices]\n",
        "    y = y[indices]\n",
        "    p = p[indices]\n",
        "    \n",
        "    plt.figure(figsize=(10, 5))\n",
        "    for i in range(10):\n",
        "        plt.subplot(2, 5, i + 1)\n",
        "        plt.imshow(x[i])\n",
        "        plt.xticks([])\n",
        "        plt.yticks([])\n",
        "        col = 'green' if np.argmax(y[i]) == np.argmax(p[i]) else 'red'\n",
        "        plt.xlabel(class_names[np.argmax(p[i])], color=col)\n",
        "    plt.show()\n",
        "\n",
        "show_random_examples(x_train, y_train, y_train)"
      ],
      "execution_count": 0,
      "outputs": []
    },
    {
      "cell_type": "code",
      "metadata": {
        "id": "0Q_zChUIlhZy",
        "colab_type": "code",
        "colab": {}
      },
      "source": [
        "show_random_examples(x_test, y_test, y_test)"
      ],
      "execution_count": 0,
      "outputs": []
    },
    {
      "cell_type": "markdown",
      "metadata": {
        "id": "Y-PrcvsBlhZ6",
        "colab_type": "text"
      },
      "source": [
        "# Task 4: Create Model"
      ]
    },
    {
      "cell_type": "code",
      "metadata": {
        "id": "idsCGPQglhZ7",
        "colab_type": "code",
        "colab": {}
      },
      "source": [
        "from tensorflow.keras.layers import Conv2D, MaxPooling2D, BatchNormalization\n",
        "from tensorflow.keras.layers import Dropout, Flatten, Input, Dense\n",
        "\n",
        "def create_model():\n",
        "    \n",
        "    def add_conv_block(model, num_filters):\n",
        "        \n",
        "        model.add(Conv2D(num_filters, 3, activation='relu', padding='same'))\n",
        "        model.add(BatchNormalization())\n",
        "        model.add(Conv2D(num_filters, 3, activation='relu', padding='valid'))\n",
        "        model.add(MaxPooling2D(pool_size=2))\n",
        "        model.add(Dropout(0.2))\n",
        "\n",
        "        return model\n",
        "    \n",
        "    model = tf.keras.models.Sequential()\n",
        "    model.add(Input(shape=(32, 32, 3)))\n",
        "    \n",
        "    model = add_conv_block(model, 32)\n",
        "    model = add_conv_block(model, 64)\n",
        "    model = add_conv_block(model, 128)\n",
        "\n",
        "    model.add(Flatten())\n",
        "    model.add(Dense(3, activation='softmax'))\n",
        "\n",
        "    model.compile(loss='categorical_crossentropy', optimizer='adam', metrics=['accuracy'])\n",
        "    return model\n",
        "\n",
        "model = create_model()\n",
        "model.summary()"
      ],
      "execution_count": 0,
      "outputs": []
    },
    {
      "cell_type": "markdown",
      "metadata": {
        "id": "OCpb-9hslhaC",
        "colab_type": "text"
      },
      "source": [
        "# Task 5: Train the Model"
      ]
    },
    {
      "cell_type": "code",
      "metadata": {
        "id": "hRz_CCV6lhaD",
        "colab_type": "code",
        "colab": {}
      },
      "source": [
        "%%time\n",
        "\n",
        "h = model.fit(\n",
        "    x_train/255., y_train,\n",
        "    validation_data=(x_test/255., y_test),\n",
        "    epochs=20, batch_size=256,\n",
        "    callbacks=[\n",
        "        tf.keras.callbacks.EarlyStopping(monitor='val_accuracy', patience=2),\n",
        "        tf.keras.callbacks.ModelCheckpoint('models/model_{val_accuracy:.3f}.h5', save_best_only=True,\n",
        "                                          save_weights_only=False, monitor='val_accuracy')\n",
        "    ]\n",
        ")"
      ],
      "execution_count": 0,
      "outputs": []
    },
    {
      "cell_type": "markdown",
      "metadata": {
        "id": "KQlDzN8ElhaI",
        "colab_type": "text"
      },
      "source": [
        "# Task 6: Final Predictions"
      ]
    },
    {
      "cell_type": "code",
      "metadata": {
        "id": "QiscypPRlhaJ",
        "colab_type": "code",
        "colab": {}
      },
      "source": [
        "losses = h.history['loss']\n",
        "accs = h.history['accuracy']\n",
        "val_losses = h.history['val_loss']\n",
        "val_accs = h.history['val_accuracy']\n",
        "epochs = len(losses)\n",
        "\n",
        "plt.figure(figsize=(12, 4))\n",
        "for i, metrics in enumerate(zip([losses, accs], [val_losses, val_accs], ['Loss', 'Accuracy'])):\n",
        "    plt.subplot(1, 2, i + 1)\n",
        "    plt.plot(range(epochs), metrics[0], label='Training {}'.format(metrics[2]))\n",
        "    plt.plot(range(epochs), metrics[1], label='Validation {}'.format(metrics[2]))\n",
        "    plt.legend()\n",
        "plt.show()"
      ],
      "execution_count": 0,
      "outputs": []
    },
    {
      "cell_type": "code",
      "metadata": {
        "id": "TPPNRcUrlhaN",
        "colab_type": "code",
        "colab": {}
      },
      "source": [
        "model = tf.keras.models.load_model('models/model_0.913.h5')\n",
        "preds = model.predict(x_test/255.)"
      ],
      "execution_count": 0,
      "outputs": []
    },
    {
      "cell_type": "code",
      "metadata": {
        "id": "i_r8CvDUlhaR",
        "colab_type": "code",
        "colab": {}
      },
      "source": [
        "show_random_examples(x_test, y_test, preds)"
      ],
      "execution_count": 0,
      "outputs": []
    },
    {
      "cell_type": "code",
      "metadata": {
        "id": "Kwn5AB70lhaU",
        "colab_type": "code",
        "colab": {}
      },
      "source": [
        ""
      ],
      "execution_count": 0,
      "outputs": []
    }
  ]
}